{
  "nbformat": 4,
  "nbformat_minor": 0,
  "metadata": {
    "colab": {
      "name": "Long-Covid.ipynb",
      "provenance": [],
      "authorship_tag": "ABX9TyOBOl6F11W29np0hrS6MGku",
      "include_colab_link": true
    },
    "kernelspec": {
      "name": "python3",
      "display_name": "Python 3"
    },
    "language_info": {
      "name": "python"
    }
  },
  "cells": [
    {
      "cell_type": "markdown",
      "metadata": {
        "id": "view-in-github",
        "colab_type": "text"
      },
      "source": [
        "<a href=\"https://colab.research.google.com/github/or1390/AU_Batch_Scheduler/blob/master/Long_Covid.ipynb\" target=\"_parent\"><img src=\"https://colab.research.google.com/assets/colab-badge.svg\" alt=\"Open In Colab\"/></a>"
      ]
    },
    {
      "cell_type": "code",
      "metadata": {
        "id": "45nCNCRVB4WW"
      },
      "source": [
        "import keras"
      ],
      "execution_count": 3,
      "outputs": []
    }
  ]
}